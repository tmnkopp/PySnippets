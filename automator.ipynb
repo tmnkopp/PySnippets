{
 "cells": [
  {
   "cell_type": "code",
   "execution_count": null,
   "metadata": {},
   "outputs": [],
   "source": [
    "# pip3 install selenium"
   ]
  },
  {
   "cell_type": "code",
   "execution_count": 1,
   "metadata": {},
   "outputs": [
    {
     "name": "stderr",
     "output_type": "stream",
     "text": [
      "[WDM] - Current google-chrome version is 89.0.4389\n",
      "[WDM] - Get LATEST driver version for 89.0.4389\n",
      "[WDM] - Get LATEST driver version for 89.0.4389\n",
      "[WDM] - Trying to download new driver from http://chromedriver.storage.googleapis.com/89.0.4389.23/chromedriver_win32.zip\n"
     ]
    },
    {
     "name": "stdout",
     "output_type": "stream",
     "text": [
      " \n"
     ]
    },
    {
     "name": "stderr",
     "output_type": "stream",
     "text": [
      "[WDM] - Driver has been saved in cache [C:\\Users\\Tim\\.wdm\\drivers\\chromedriver\\win32\\89.0.4389.23]\n"
     ]
    }
   ],
   "source": [
    "import pandas as pd \n",
    "from time import sleep\n",
    "import requests \n",
    "import re\n",
    "from bs4 import BeautifulSoup  \n",
    "import pymongo \n",
    "from selenium import webdriver\n",
    "from selenium.webdriver.support.ui import Select\n",
    "from webdriver_manager.chrome import ChromeDriverManager\n",
    "WDM = {'executable_path': ChromeDriverManager().install()} \n",
    "from selenium.webdriver.chrome.options import Options\n"
   ]
  },
  {
   "cell_type": "code",
   "execution_count": null,
   "metadata": {},
   "outputs": [],
   "source": []
  },
  {
   "cell_type": "code",
   "execution_count": null,
   "metadata": {},
   "outputs": [],
   "source": [
    "options = Options()\n",
    "#options.add_argument(\"--headless\")\n",
    "options.add_argument(\"--start-maximized\")\n",
    "options.add_argument(\"--disable-notifications\")\n",
    "options.add_argument(\"--incognito\")\n",
    "driver = webdriver.Chrome(chrome_options=options, executable_path=WDM['executable_path'])"
   ]
  },
  {
   "cell_type": "markdown",
   "metadata": {},
   "source": [
    "driver.get(\"https://google.com\")\n",
    "\n",
    "theSearchBoxElement = driver.find_element_by_css_selector(\".gLFyf\")\n",
    "driver.implicitly_wait(2) \n",
    "theSearchBoxElement.send_keys(\"HOORAY\")  \n",
    "driver.implicitly_wait(2)  \n",
    "driver.find_element_by_css_selector(\".gNO89b\").click() \n",
    "sleep(2)\n"
   ]
  },
  {
   "cell_type": "markdown",
   "metadata": {},
   "source": [
    "\n",
    "driver.execute_script(''' window.open(\"https://ivantay2003.medium.com/selenium-cheat-sheet-in-python-87221ee06c83\", \"_blank\");''')\n",
    "sleep(2)\n",
    " "
   ]
  },
  {
   "cell_type": "markdown",
   "metadata": {},
   "source": [
    "### SEARCH FOR A DRESS"
   ]
  },
  {
   "cell_type": "code",
   "execution_count": null,
   "metadata": {},
   "outputs": [],
   "source": [
    "\n",
    "driver.get(\"http://automationpractice.com/index.php?controller=authentication&back=identity\")\n",
    "sleep(2)\n",
    "# get the search box element\n",
    "\n",
    "# send keys \"DRESS\" to the search box element\n",
    "driver.find_element_by_css_selector(\"REPLACE: CSS Selector For Search\").send_keys(\"DRESS\") \n",
    "# click search button\n",
    "driver.find_element_by_css_selector(\"REPLACE: CSS Selector For Search BUTTON\").click()"
   ]
  },
  {
   "cell_type": "markdown",
   "metadata": {},
   "source": [
    "### Contact"
   ]
  },
  {
   "cell_type": "code",
   "execution_count": null,
   "metadata": {},
   "outputs": [],
   "source": [
    "driver.get(\"http://automationpractice.com/index.php?controller=contact\")\n",
    "sleep(2)\n",
    "driver.implicitly_wait(5) \n",
    " "
   ]
  },
  {
   "cell_type": "code",
   "execution_count": null,
   "metadata": {},
   "outputs": [],
   "source": [
    "# Try to populate some fields\n",
    "driver.find_element_by_css_selector(\"REPLACE: CSS Selector For Email Selector\").send_keys(\"my email address\") \n",
    "driver.find_element_by_css_selector(\"REPLACE: Order reference Selector\").send_keys(\"\") \n",
    "\n",
    "MyMessage = \"TODO: how do you find duplicate records using SQL?\" \n",
    "driver.find_element_by_css_selector(\"REPLACE: Message Box Selector\").send_keys(MyMessage) "
   ]
  },
  {
   "cell_type": "code",
   "execution_count": null,
   "metadata": {},
   "outputs": [],
   "source": [
    "# Subject Heading\n",
    "# HELP: https://stackoverflow.com/questions/7867537/how-to-select-a-drop-down-menu-value-with-selenium-using-python\n",
    "select = Select(driver.find_element_by_id('REPLACE: ID FOR THE SELECT BOX'))\n",
    "select.select_by_value('1')\n",
    "\n",
    "# Attach File ? \n",
    "\n",
    "# Try Locating and Clicking the send button "
   ]
  },
  {
   "cell_type": "code",
   "execution_count": null,
   "metadata": {},
   "outputs": [],
   "source": [
    "\n",
    "driver.get(\"http://automationpractice.com/index.php?controller=authentication&back=identity\")\n",
    "sleep(2)\n",
    "driver.implicitly_wait(2) \n",
    "driver.find_element_by_css_selector(\"#email_create\").send_keys(\"TestyMcTestFace@Gmail.com\")    \n",
    "driver.find_element_by_css_selector(\"#SubmitCreate\").click()\n",
    "sleep(2)\n"
   ]
  },
  {
   "cell_type": "code",
   "execution_count": null,
   "metadata": {},
   "outputs": [],
   "source": [
    "driver.find_element_by_css_selector(\"#id_gender2\").click()\n",
    "driver.find_element_by_css_selector(\"#customer_firstname\").send_keys(\"Testy\") "
   ]
  },
  {
   "cell_type": "code",
   "execution_count": null,
   "metadata": {},
   "outputs": [],
   "source": []
  },
  {
   "cell_type": "code",
   "execution_count": null,
   "metadata": {},
   "outputs": [],
   "source": []
  },
  {
   "cell_type": "code",
   "execution_count": null,
   "metadata": {},
   "outputs": [],
   "source": []
  }
 ],
 "metadata": {
  "kernelspec": {
   "display_name": "Python 3",
   "language": "python",
   "name": "python3"
  },
  "language_info": {
   "codemirror_mode": {
    "name": "ipython",
    "version": 3
   },
   "file_extension": ".py",
   "mimetype": "text/x-python",
   "name": "python",
   "nbconvert_exporter": "python",
   "pygments_lexer": "ipython3",
   "version": "3.8.3"
  }
 },
 "nbformat": 4,
 "nbformat_minor": 2
}
