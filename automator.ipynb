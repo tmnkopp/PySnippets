{
 "metadata": {
  "language_info": {
   "codemirror_mode": {
    "name": "ipython",
    "version": 3
   },
   "file_extension": ".py",
   "mimetype": "text/x-python",
   "name": "python",
   "nbconvert_exporter": "python",
   "pygments_lexer": "ipython3",
   "version": "3.8.3"
  },
  "orig_nbformat": 2,
  "kernelspec": {
   "name": "python383jvsc74a57bd0995efa93ae3765c2302cfbf3fe27e0eb0766ff14c0e61346faf18c86c7d5327d",
   "display_name": "Python 3.8.3 64-bit ('base': conda)"
  }
 },
 "nbformat": 4,
 "nbformat_minor": 2,
 "cells": [
  {
   "cell_type": "code",
   "execution_count": null,
   "metadata": {},
   "outputs": [],
   "source": [
    "# pip3 install selenium"
   ]
  },
  {
   "cell_type": "code",
   "execution_count": 16,
   "metadata": {},
   "outputs": [
    {
     "output_type": "stream",
     "name": "stderr",
     "text": [
      "[WDM] - Current google-chrome version is 89.0.4389\n",
      "[WDM] - Get LATEST driver version for 89.0.4389\n",
      "[WDM] - Driver [C:\\Users\\Tim\\.wdm\\drivers\\chromedriver\\win32\\89.0.4389.23\\chromedriver.exe] found in cache\n",
      " \n"
     ]
    }
   ],
   "source": [
    "import pandas as pd \n",
    "from time import sleep\n",
    "import requests \n",
    "import re\n",
    "from bs4 import BeautifulSoup  \n",
    "import pymongo \n",
    "from selenium import webdriver\n",
    "from webdriver_manager.chrome import ChromeDriverManager\n",
    "WDM = {'executable_path': ChromeDriverManager().install()} \n",
    "from selenium.webdriver.chrome.options import Options\n"
   ]
  },
  {
   "cell_type": "code",
   "execution_count": 7,
   "metadata": {},
   "outputs": [
    {
     "output_type": "execute_result",
     "data": {
      "text/plain": [
       "'C:\\\\Users\\\\Tim\\\\.wdm\\\\drivers\\\\chromedriver\\\\win32\\\\89.0.4389.23\\\\chromedriver.exe'"
      ]
     },
     "metadata": {},
     "execution_count": 7
    }
   ],
   "source": []
  },
  {
   "cell_type": "code",
   "execution_count": 25,
   "metadata": {},
   "outputs": [
    {
     "output_type": "stream",
     "name": "stderr",
     "text": [
      "<ipython-input-25-0c585fe8c76f>:6: DeprecationWarning: use options instead of chrome_options\n  driver = webdriver.Chrome(chrome_options=options, executable_path=WDM['executable_path'])\n"
     ]
    }
   ],
   "source": [
    "options = Options()\n",
    "#options.add_argument(\"--headless\")\n",
    "options.add_argument(\"--start-maximized\")\n",
    "options.add_argument(\"--disable-notifications\")\n",
    "options.add_argument(\"--incognito\")\n",
    "driver = webdriver.Chrome(chrome_options=options, executable_path=WDM['executable_path'])"
   ]
  },
  {
   "cell_type": "code",
   "execution_count": 18,
   "metadata": {},
   "outputs": [],
   "source": [
    "driver.get(\"https://google.com\")\n",
    "\n",
    "theSearchBoxElement = driver.find_element_by_css_selector(\".gLFyf\")\n",
    "driver.implicitly_wait(2) \n",
    "theSearchBoxElement.send_keys(\"HOORAY\")  \n",
    "driver.implicitly_wait(2)  \n",
    "driver.find_element_by_css_selector(\".gNO89b\").click() \n",
    "sleep(2)\n"
   ]
  },
  {
   "cell_type": "code",
   "execution_count": 19,
   "metadata": {},
   "outputs": [],
   "source": [
    "\n",
    "driver.execute_script(''' window.open(\"https://ivantay2003.medium.com/selenium-cheat-sheet-in-python-87221ee06c83\", \"_blank\");''')\n",
    "sleep(2)\n",
    " "
   ]
  },
  {
   "cell_type": "code",
   "execution_count": 26,
   "metadata": {},
   "outputs": [],
   "source": [
    "\n",
    "driver.get(\"http://automationpractice.com/index.php?controller=authentication&back=identity\")\n",
    "\n",
    "driver.find_element_by_css_selector(\"#email_create\").send_keys(\"TestyMcTestFace@Gmail.com\")   \n",
    "driver.implicitly_wait(2) \n",
    "driver.find_element_by_css_selector(\"#SubmitCreate\").click()\n",
    "sleep(2)\n"
   ]
  },
  {
   "cell_type": "code",
   "execution_count": null,
   "metadata": {},
   "outputs": [],
   "source": []
  },
  {
   "cell_type": "code",
   "execution_count": null,
   "metadata": {},
   "outputs": [],
   "source": []
  },
  {
   "cell_type": "code",
   "execution_count": null,
   "metadata": {},
   "outputs": [],
   "source": []
  },
  {
   "cell_type": "code",
   "execution_count": null,
   "metadata": {},
   "outputs": [],
   "source": []
  }
 ]
}