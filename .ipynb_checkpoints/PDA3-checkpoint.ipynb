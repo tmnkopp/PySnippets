{
 "cells": [
  {
   "cell_type": "code",
   "execution_count": 6,
   "metadata": {},
   "outputs": [],
   "source": [
    "import matplotlib.pyplot as plt\n",
    "import pandas as pd\n",
    "import requests\n",
    "import json"
   ]
  },
  {
   "cell_type": "code",
   "execution_count": 17,
   "metadata": {},
   "outputs": [
    {
     "data": {
      "text/html": [
       "<div>\n",
       "<style scoped>\n",
       "    .dataframe tbody tr th:only-of-type {\n",
       "        vertical-align: middle;\n",
       "    }\n",
       "\n",
       "    .dataframe tbody tr th {\n",
       "        vertical-align: top;\n",
       "    }\n",
       "\n",
       "    .dataframe thead th {\n",
       "        text-align: right;\n",
       "    }\n",
       "</style>\n",
       "<table border=\"1\" class=\"dataframe\">\n",
       "  <thead>\n",
       "    <tr style=\"text-align: right;\">\n",
       "      <th></th>\n",
       "      <th>padid</th>\n",
       "      <th>id</th>\n",
       "      <th>name</th>\n",
       "      <th>full_name</th>\n",
       "      <th>status</th>\n",
       "      <th>location</th>\n",
       "      <th>vehicles_launched</th>\n",
       "      <th>attempted_launches</th>\n",
       "      <th>successful_launches</th>\n",
       "      <th>wikipedia</th>\n",
       "      <th>details</th>\n",
       "    </tr>\n",
       "  </thead>\n",
       "  <tbody>\n",
       "    <tr>\n",
       "      <th>0</th>\n",
       "      <td>5</td>\n",
       "      <td>vafb_slc_3w</td>\n",
       "      <td>VAFB SLC 3W</td>\n",
       "      <td>Vandenberg Air Force Base Space Launch Complex 3W</td>\n",
       "      <td>retired</td>\n",
       "      <td>{'name': 'Vandenberg Air Force Base', 'region'...</td>\n",
       "      <td>[Falcon 1]</td>\n",
       "      <td>0</td>\n",
       "      <td>0</td>\n",
       "      <td>https://en.wikipedia.org/wiki/Vandenberg_AFB_S...</td>\n",
       "      <td>SpaceX original west coast launch pad for Falc...</td>\n",
       "    </tr>\n",
       "    <tr>\n",
       "      <th>1</th>\n",
       "      <td>2</td>\n",
       "      <td>ccafs_slc_40</td>\n",
       "      <td>CCAFS SLC 40</td>\n",
       "      <td>Cape Canaveral Air Force Station Space Launch ...</td>\n",
       "      <td>active</td>\n",
       "      <td>{'name': 'Cape Canaveral', 'region': 'Florida'...</td>\n",
       "      <td>[Falcon 9]</td>\n",
       "      <td>59</td>\n",
       "      <td>57</td>\n",
       "      <td>https://en.wikipedia.org/wiki/Cape_Canaveral_A...</td>\n",
       "      <td>SpaceX primary Falcon 9 launch pad, where all ...</td>\n",
       "    </tr>\n",
       "  </tbody>\n",
       "</table>\n",
       "</div>"
      ],
      "text/plain": [
       "   padid            id          name  \\\n",
       "0      5   vafb_slc_3w   VAFB SLC 3W   \n",
       "1      2  ccafs_slc_40  CCAFS SLC 40   \n",
       "\n",
       "                                           full_name   status  \\\n",
       "0  Vandenberg Air Force Base Space Launch Complex 3W  retired   \n",
       "1  Cape Canaveral Air Force Station Space Launch ...   active   \n",
       "\n",
       "                                            location vehicles_launched  \\\n",
       "0  {'name': 'Vandenberg Air Force Base', 'region'...        [Falcon 1]   \n",
       "1  {'name': 'Cape Canaveral', 'region': 'Florida'...        [Falcon 9]   \n",
       "\n",
       "   attempted_launches  successful_launches  \\\n",
       "0                   0                    0   \n",
       "1                  59                   57   \n",
       "\n",
       "                                           wikipedia  \\\n",
       "0  https://en.wikipedia.org/wiki/Vandenberg_AFB_S...   \n",
       "1  https://en.wikipedia.org/wiki/Cape_Canaveral_A...   \n",
       "\n",
       "                                             details  \n",
       "0  SpaceX original west coast launch pad for Falc...  \n",
       "1  SpaceX primary Falcon 9 launch pad, where all ...  "
      ]
     },
     "execution_count": 17,
     "metadata": {},
     "output_type": "execute_result"
    }
   ],
   "source": [
    "url = \"https://api.spacexdata.com/v2/launchpads\"\n",
    "response = requests.get(url).json()\n",
    "df=pd.DataFrame(response)\n",
    "df.head(2)"
   ]
  },
  {
   "cell_type": "code",
   "execution_count": 19,
   "metadata": {},
   "outputs": [
    {
     "ename": "SyntaxError",
     "evalue": "invalid syntax (<ipython-input-19-dea894a7217a>, line 5)",
     "output_type": "error",
     "traceback": [
      "\u001b[1;36m  File \u001b[1;32m\"<ipython-input-19-dea894a7217a>\"\u001b[1;36m, line \u001b[1;32m5\u001b[0m\n\u001b[1;33m    vehicles_launched\u001b[0m\n\u001b[1;37m    ^\u001b[0m\n\u001b[1;31mSyntaxError\u001b[0m\u001b[1;31m:\u001b[0m invalid syntax\n"
     ]
    }
   ],
   "source": [
    "import re\n",
    "\n",
    "stats = set(df['status'])\n",
    "vehicles_launched = set( df['vehicles_launched'].replace( {'[':''} )\n",
    "vehicles_launched"
   ]
  },
  {
   "cell_type": "code",
   "execution_count": null,
   "metadata": {},
   "outputs": [],
   "source": [
    "df.loc[df['']]"
   ]
  },
  {
   "cell_type": "code",
   "execution_count": null,
   "metadata": {},
   "outputs": [],
   "source": [
    "print(json.dumps(response, indent=4, sort_keys=True))"
   ]
  },
  {
   "cell_type": "code",
   "execution_count": null,
   "metadata": {},
   "outputs": [],
   "source": [
    "all_drugs = set(df_clean['Drug Regimen'])\n",
    "all_drugs"
   ]
  },
  {
   "cell_type": "code",
   "execution_count": null,
   "metadata": {},
   "outputs": [],
   "source": []
  },
  {
   "cell_type": "code",
   "execution_count": null,
   "metadata": {},
   "outputs": [],
   "source": []
  },
  {
   "cell_type": "code",
   "execution_count": null,
   "metadata": {},
   "outputs": [],
   "source": []
  },
  {
   "cell_type": "code",
   "execution_count": null,
   "metadata": {},
   "outputs": [],
   "source": []
  }
 ],
 "metadata": {
  "kernelspec": {
   "display_name": "Python 3",
   "language": "python",
   "name": "python3"
  },
  "language_info": {
   "codemirror_mode": {
    "name": "ipython",
    "version": 3
   },
   "file_extension": ".py",
   "mimetype": "text/x-python",
   "name": "python",
   "nbconvert_exporter": "python",
   "pygments_lexer": "ipython3",
   "version": "3.8.3"
  }
 },
 "nbformat": 4,
 "nbformat_minor": 4
}
