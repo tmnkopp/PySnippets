{
 "cells": [
  {
   "cell_type": "code",
   "execution_count": 19,
   "metadata": {},
   "outputs": [],
   "source": [
    "import requests, praw, re, time\n",
    "from bs4 import BeautifulSoup \n",
    "from datetime import datetime\n",
    "import pandas as pd \n",
    "from splinter import Browser\n",
    "from webdriver_manager.chrome import ChromeDriverManager\n",
    "from config import indeed_query,r_client_id,r_secret_key,r_dev,r_username,r_pw"
   ]
  },
  {
   "cell_type": "code",
   "execution_count": 20,
   "metadata": {
    "scrolled": true
   },
   "outputs": [
    {
     "name": "stdout",
     "output_type": "stream",
     "text": [
      "Jazzy_Danger_1230\n"
     ]
    }
   ],
   "source": [
    "reddit = praw.Reddit(\n",
    "    client_id=r_client_id,\n",
    "    client_secret=r_secret_key,\n",
    "    password=r_pw,\n",
    "    user_agent=f'testscript by u/{r_dev}',\n",
    "    username=r_dev,\n",
    ")\n",
    "print(reddit.user.me())"
   ]
  },
  {
   "cell_type": "code",
   "execution_count": 29,
   "metadata": {},
   "outputs": [],
   "source": [
    "submissions=reddit.subreddit(\"wallstreetbets\").search(\"Daily Discussion Thread\", limit=4, sort='new')"
   ]
  },
  {
   "cell_type": "code",
   "execution_count": null,
   "metadata": {},
   "outputs": [],
   "source": [
    "lst = []\n",
    "for submission in submissions:\n",
    "    #print(submission.title)    \n",
    "    submission.comments.replace_more(limit=None)\n",
    "    submission.comment_sort = 'new'\n",
    "    for comment in submission.comments: \n",
    "        try:\n",
    "            lst.append(\n",
    "                {\n",
    "                    'submission_title':submission.title\n",
    "                    ,'comment_body':comment.body\n",
    "                    ,'time':datetime.utcfromtimestamp(comment.created_utc).strftime('%Y-%m-%d %H:%M:%S')\n",
    "                    ,'author': comment.author\n",
    "                    ,'score':comment.score\n",
    "                    ,'permalink':comment.permalink\n",
    "                    ,'replies':comment.replies\n",
    "                    ,'id':comment.id \n",
    "                }\n",
    "            ) \n",
    "        except:\n",
    "            print('err' + comment.id  )\n",
    "            pass    \n",
    "df = pd.DataFrame(lst)\n",
    "df"
   ]
  },
  {
   "cell_type": "code",
   "execution_count": 13,
   "metadata": {},
   "outputs": [
    {
     "name": "stdout",
     "output_type": "stream",
     "text": [
      "Daily Discussion Thread for June 02, 2021\n",
      "BB LETS GO 🚀 🚀 🚀\n",
      "BB is waiting for takeoff\n",
      "idk when the amc run will end, but when it does, buy calls on BB\n",
      "BB IS THE WAY\n",
      "You can’t BBeat us down!!!\n",
      "GEORGE DUBBYA ON AMC\n",
      "Grab your BB calls today before be to late . Today  BB will start taking off 🚀🛸\n",
      "Shifting profits to BB. Let's go!\n",
      "MELVIN SHORT LADDERING $BB !!!\n",
      "\n",
      "TIME TO GET INTO $BB!!\n",
      "Hop in BB while AMC recharges\n",
      "What's up with all this BB bullshit in here??\n",
      "BB bout to moon 🚀🚀\n",
      "Halt just means you buy more BB while waiting. No worries here.\n",
      "I JUST BOUGHT 10K OF BB BECAUSE FOMO. APES, DO NOT LET ME DOWN AND HOLLDDDDDDD\n",
      "Nervous about BB it’s moving with AMC so whatever AMC does is what BB will do. Hopefully not down because I’m betting on BB being next\n",
      "When will BB take off? Leaps are cheap. Just buy them and it’ll work out.\n",
      "How high will BB fly?\n",
      "HEY NEW MONEY AMC APES, COME ON OVER TO BB. THE WATER IS NICE.\n",
      " ANOTHER AMC HALT....  I'M BUYING MORE BB.\n",
      "BB is so strong on its own\n",
      "I havent got much money, 1 share of AMC or 10 shares of BB what should i do?\n",
      "How can I politely put this...\n",
      "\n",
      "\n",
      "No one fucking cares about BB\n",
      "Does Melvin even have significant short position in AMC and BB?\n",
      "Oops. I just fat fingered buying a BB 6/4 $17c when I meant to sell one. There goes $152 down the drain.\n",
      "BB is a diversion, AMC all the way\n",
      "I can’t believe BB got this low in the first place\n",
      "BB GANG\n",
      "Yes BB!\n",
      "Thise who missed AMC, just wait for BB to pull back to the 10-11 range, load up and wait 2 weeks\n",
      "SHORT LADDER ATTACK ON $BB.\n",
      "\n",
      "HOLD. FUCK MELVIN.\n",
      "Load up on BB near $13.50 dips\n",
      "BB June 18' 26 CALL we goo\n",
      "BB has so much more room for growth. Going up nice and steady.\n",
      "come on BB 🚀🚀🚀\n",
      "AMC SHORTS COVERED DURING THE CRIMINAL HALTS.\n",
      "\n",
      "BUT BB JUST GETTING STARTED.\n",
      "I can’t stop buying BB🙈🙈\n",
      "Threw $50 at BB\n",
      "When AMC halts .... I just stare at the BB ticker! NBD.\n",
      "BB calls acquired\n",
      "Chart for BB and AMC near identical. \n",
      "The Chads with nice suits are worried\n",
      "What are you doing step-BBro?\n"
     ]
    }
   ],
   "source": [
    "for submission in reddit.subreddit(\"wallstreetbets\").hot(limit=1):\n",
    "    print(submission.title)\n",
    "    submission.comment_sort = 'new'\n",
    "    for comment in submission.comments:\n",
    "        try:\n",
    "            if 'BB' in comment.body:\n",
    "                print(comment.body)\n",
    "        except:\n",
    "            pass"
   ]
  },
  {
   "cell_type": "code",
   "execution_count": null,
   "metadata": {},
   "outputs": [],
   "source": []
  },
  {
   "cell_type": "code",
   "execution_count": null,
   "metadata": {},
   "outputs": [],
   "source": []
  },
  {
   "cell_type": "code",
   "execution_count": null,
   "metadata": {},
   "outputs": [],
   "source": []
  },
  {
   "cell_type": "code",
   "execution_count": null,
   "metadata": {},
   "outputs": [],
   "source": [
    "p=0\n",
    "url = f'https://washingtondc.craigslist.org/d/bicycles/search/bia?s={p}'\n",
    "soup = BeautifulSoup(requests.get(url).text, \"html.parser\")\n",
    "\n",
    "   \n",
    "    "
   ]
  }
 ],
 "metadata": {
  "kernelspec": {
   "display_name": "Python 3",
   "language": "python",
   "name": "python3"
  },
  "language_info": {
   "codemirror_mode": {
    "name": "ipython",
    "version": 3
   },
   "file_extension": ".py",
   "mimetype": "text/x-python",
   "name": "python",
   "nbconvert_exporter": "python",
   "pygments_lexer": "ipython3",
   "version": "3.8.3"
  }
 },
 "nbformat": 4,
 "nbformat_minor": 4
}
