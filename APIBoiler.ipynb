{
 "cells": [
  {
   "cell_type": "code",
   "execution_count": 1,
   "metadata": {},
   "outputs": [],
   "source": [
    "import requests, praw, re, time\n",
    "from bs4 import BeautifulSoup \n",
    "import pandas as pd \n",
    "from splinter import Browser\n",
    "from webdriver_manager.chrome import ChromeDriverManager\n",
    "from config import indeed_query,r_client_id,r_secret_key,r_dev,r_username,r_pw"
   ]
  },
  {
   "cell_type": "code",
   "execution_count": 5,
   "metadata": {
    "scrolled": true
   },
   "outputs": [
    {
     "name": "stdout",
     "output_type": "stream",
     "text": [
      "Jazzy_Danger_1230\n"
     ]
    }
   ],
   "source": [
    "reddit = praw.Reddit(\n",
    "    client_id=r_client_id,\n",
    "    client_secret=r_secret_key,\n",
    "    password=r_pw,\n",
    "    user_agent=f'testscript by u/{r_dev}',\n",
    "    username=r_dev,\n",
    ")\n",
    "print(reddit.user.me())"
   ]
  },
  {
   "cell_type": "code",
   "execution_count": 4,
   "metadata": {},
   "outputs": [
    {
     "name": "stdout",
     "output_type": "stream",
     "text": [
      "Daily Discussion Thread for June 02, 2021\n",
      "Most Anticipated Earnings Releases for the week beginning May 31st, 2021\n",
      "We can’t stop... They can’t stop us, although they try... we’re true soldiers, we don’t die... We keep rolling... na-nah-nah-nah-nah!!!\n",
      "The second coming\n",
      "I put 750 dollars in I have never had this much I know my dads looking down smiling thankyou apes\n",
      "BB to the MOON, leggooo let's get this money!!\n",
      "I’m the person that Yolo’d my dads savings into BB 6 months ago, it’s either retirement on a yacht or foodstamps for him, the plan has NOT changed!\n",
      "Can we just go ahead and take BB to the moon again?? 🚀🚀🧨\n",
      "BB yolo, I’m still holding my 6/18\n",
      "$32K In A Day - Theta Play - This Is The Way\n",
      "I'd buy GME for a dollar!\n",
      "Holding BB to the moon! 🚀\n",
      "$BB🚀🚀 $37,000 yolo\n",
      "What are gains on AMC so far? 🚀\n",
      "Why AMC is rallying and why it will CONTINUE rallying 🚀🌑\n",
      "Moon 🌙 is coming HOLD 💎🙌🏻\n",
      "Ape like popcorn\n",
      "When I finally sell at $100,000 a share\n",
      "I heard BB goes brrrrr\n",
      "96K Yolo on BB from 3/12. Where my BBros at?\n",
      "First ever gains post.. GME and AMC to the moon we hodl 🦍💎🙌🚀🌝\n",
      "BB 100k yolo shares and options\n",
      "“How to turn $871 into $15,000” 🦍 #AMC\n",
      "Amazon backs federal bill to legalize marijuana and adjusts its drug testing policy for some workers\n",
      "Ape don’t know sell button\n"
     ]
    }
   ],
   "source": [
    "for submission in reddit.subreddit(\"wallstreetbets\").hot(limit=25):\n",
    "    print(submission.title)"
   ]
  },
  {
   "cell_type": "code",
   "execution_count": null,
   "metadata": {},
   "outputs": [],
   "source": []
  },
  {
   "cell_type": "code",
   "execution_count": null,
   "metadata": {},
   "outputs": [],
   "source": []
  },
  {
   "cell_type": "code",
   "execution_count": null,
   "metadata": {},
   "outputs": [],
   "source": []
  },
  {
   "cell_type": "code",
   "execution_count": null,
   "metadata": {},
   "outputs": [],
   "source": [
    "p=0\n",
    "url = f'https://washingtondc.craigslist.org/d/bicycles/search/bia?s={p}'\n",
    "soup = BeautifulSoup(requests.get(url).text, \"html.parser\")\n",
    "\n",
    "   \n",
    "    "
   ]
  },
  {
   "cell_type": "code",
   "execution_count": null,
   "metadata": {},
   "outputs": [],
   "source": []
  },
  {
   "cell_type": "code",
   "execution_count": null,
   "metadata": {},
   "outputs": [],
   "source": []
  },
  {
   "cell_type": "code",
   "execution_count": null,
   "metadata": {},
   "outputs": [],
   "source": []
  },
  {
   "cell_type": "code",
   "execution_count": null,
   "metadata": {},
   "outputs": [],
   "source": []
  },
  {
   "cell_type": "code",
   "execution_count": null,
   "metadata": {},
   "outputs": [],
   "source": []
  },
  {
   "cell_type": "code",
   "execution_count": null,
   "metadata": {},
   "outputs": [],
   "source": [
    " els = soup.select('.jobsearch-SerpJobCard') "
   ]
  }
 ],
 "metadata": {
  "kernelspec": {
   "display_name": "Python 3",
   "language": "python",
   "name": "python3"
  },
  "language_info": {
   "codemirror_mode": {
    "name": "ipython",
    "version": 3
   },
   "file_extension": ".py",
   "mimetype": "text/x-python",
   "name": "python",
   "nbconvert_exporter": "python",
   "pygments_lexer": "ipython3",
   "version": "3.8.3"
  }
 },
 "nbformat": 4,
 "nbformat_minor": 4
}
