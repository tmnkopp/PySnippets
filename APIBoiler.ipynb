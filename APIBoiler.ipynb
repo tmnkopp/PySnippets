{
 "cells": [
  {
   "cell_type": "code",
   "execution_count": 1,
   "metadata": {},
   "outputs": [],
   "source": [
    "import requests, praw, re, time\n",
    "from bs4 import BeautifulSoup \n",
    "import pandas as pd \n",
    "from splinter import Browser\n",
    "from webdriver_manager.chrome import ChromeDriverManager\n",
    "from config import indeed_query,r_client_id,r_secret_key,r_dev,r_username,r_pw"
   ]
  },
  {
   "cell_type": "code",
   "execution_count": 5,
   "metadata": {
    "scrolled": true
   },
   "outputs": [
    {
     "name": "stdout",
     "output_type": "stream",
     "text": [
      "Jazzy_Danger_1230\n"
     ]
    }
   ],
   "source": [
    "reddit = praw.Reddit(\n",
    "    client_id=r_client_id,\n",
    "    client_secret=r_secret_key,\n",
    "    password=r_pw,\n",
    "    user_agent=f'testscript by u/{r_dev}',\n",
    "    username=r_dev,\n",
    ")\n",
    "print(reddit.user.me())"
   ]
  },
  {
   "cell_type": "code",
   "execution_count": 11,
   "metadata": {},
   "outputs": [
    {
     "name": "stdout",
     "output_type": "stream",
     "text": [
      "Daily Discussion Thread for June 02, 2021\n",
      "AMC is actually influencing BB\n",
      "Somone convince me not to yolo BB\n",
      "DO NOT SELL BB YA APES\n",
      "\n",
      "&#x200B;\n",
      "\n",
      "Hold it.\n",
      "BB time for you to shine\n",
      "BB SALE THIS SHIT GONNA MOON\n",
      "Bots playing? BB following every move of AMC just on a smaller scale\n",
      "BB\n",
      "\n",
      "CRSR\n",
      "\n",
      "\n",
      "\n",
      "These are they plays to get into NOW.\n",
      "BB: 🛵\n",
      "AMC: 🚀\n",
      "I thought we were all buying BB>?\n",
      "Time to rotate into BB , no restrictions there yet...\n",
      "I bought calls on BB for in 2 weeks, let’s see 😈\n",
      "What is love, BBBY don’t hurt me, don’t hurt me, no more\n",
      "I bought BB. Lets see what happens\n",
      "Do I take profit on BB?? Downvote for No ty\n",
      "BB is so undervalued\n",
      "If BB is up 20% in a day. 7 days gonna be 140% ✔️\n",
      "Middle class getting rich by holding strong together AMC and BB\n",
      "$BB & $SNDL WILL PRINT \n",
      "\n",
      "APES STRONG TOGETHER...\n",
      "HOLD AND BUY, APES HOLD AND BUY $AMC $BB\n",
      "AMC APES:\n",
      "\n",
      "Don't forget to take out your initial investment!\n",
      "\n",
      "Put that initial investment in BB and start it all over again!\n",
      "Is BB a buy and hold? Or should I go to AMC...or both\n",
      "time to switch gears to BB!\n",
      "All jokes aside, BB probably will follow. Especially if they start limiting the market\n",
      "Can some AMC bagholders help out with your younger brother BB toooo\n",
      "If AMC surge is due to gamma squeeze then why BB goes up/down in sync?\n",
      "Good job AMC. Alright, BB next 🚀🚀\n",
      "NEVER BET AGAINST WSB. BB ALL THE WAY\n",
      "6 AMC shares @ 35  \n",
      "1 BB $14 call expires 7/2\n",
      "\n",
      "I'm doing my part!\n",
      "BB BOYS N GIRLS\n",
      "BB pump 15 eod\n",
      "BB HAS A LONG WAY TO GO GET IT NOW 🚀\n",
      "BB next\n",
      "BB TO FKN MARS 🚀🚀🚀\n",
      "#BB still on wait, wait till it hits its squeeze price in Jan 🚀🚀🚀🚀🚀\n",
      "Is this the week where AMC hits 100, BB hits 30, and GME hits 500?\n"
     ]
    }
   ],
   "source": [
    "for submission in reddit.subreddit(\"wallstreetbets\").hot(limit=1):\n",
    "    print(submission.title)\n",
    "    submission.comment_sort = 'new'\n",
    "    for comment in submission.comments:\n",
    "        try:\n",
    "            if 'BB' in comment.body:\n",
    "                print(comment.body)\n",
    "        except:\n",
    "            pass"
   ]
  },
  {
   "cell_type": "code",
   "execution_count": null,
   "metadata": {},
   "outputs": [],
   "source": []
  },
  {
   "cell_type": "code",
   "execution_count": null,
   "metadata": {},
   "outputs": [],
   "source": []
  },
  {
   "cell_type": "code",
   "execution_count": null,
   "metadata": {},
   "outputs": [],
   "source": []
  },
  {
   "cell_type": "code",
   "execution_count": null,
   "metadata": {},
   "outputs": [],
   "source": [
    "p=0\n",
    "url = f'https://washingtondc.craigslist.org/d/bicycles/search/bia?s={p}'\n",
    "soup = BeautifulSoup(requests.get(url).text, \"html.parser\")\n",
    "\n",
    "   \n",
    "    "
   ]
  },
  {
   "cell_type": "code",
   "execution_count": null,
   "metadata": {},
   "outputs": [],
   "source": []
  },
  {
   "cell_type": "code",
   "execution_count": null,
   "metadata": {},
   "outputs": [],
   "source": []
  },
  {
   "cell_type": "code",
   "execution_count": null,
   "metadata": {},
   "outputs": [],
   "source": []
  },
  {
   "cell_type": "code",
   "execution_count": null,
   "metadata": {},
   "outputs": [],
   "source": []
  },
  {
   "cell_type": "code",
   "execution_count": null,
   "metadata": {},
   "outputs": [],
   "source": []
  },
  {
   "cell_type": "code",
   "execution_count": null,
   "metadata": {},
   "outputs": [],
   "source": [
    " els = soup.select('.jobsearch-SerpJobCard') "
   ]
  }
 ],
 "metadata": {
  "kernelspec": {
   "display_name": "Python 3",
   "language": "python",
   "name": "python3"
  },
  "language_info": {
   "codemirror_mode": {
    "name": "ipython",
    "version": 3
   },
   "file_extension": ".py",
   "mimetype": "text/x-python",
   "name": "python",
   "nbconvert_exporter": "python",
   "pygments_lexer": "ipython3",
   "version": "3.8.3"
  }
 },
 "nbformat": 4,
 "nbformat_minor": 4
}
