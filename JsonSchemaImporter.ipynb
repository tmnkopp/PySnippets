{
 "cells": [
  {
   "cell_type": "code",
   "execution_count": 1,
   "metadata": {},
   "outputs": [],
   "source": [
    "import json\n",
    "import pandas as pd"
   ]
  },
  {
   "cell_type": "code",
   "execution_count": 9,
   "metadata": {},
   "outputs": [
    {
     "data": {
      "text/html": [
       "<div>\n",
       "<style scoped>\n",
       "    .dataframe tbody tr th:only-of-type {\n",
       "        vertical-align: middle;\n",
       "    }\n",
       "\n",
       "    .dataframe tbody tr th {\n",
       "        vertical-align: top;\n",
       "    }\n",
       "\n",
       "    .dataframe thead th {\n",
       "        text-align: right;\n",
       "    }\n",
       "</style>\n",
       "<table border=\"1\" class=\"dataframe\">\n",
       "  <thead>\n",
       "    <tr style=\"text-align: right;\">\n",
       "      <th></th>\n",
       "      <th>$id</th>\n",
       "      <th>$schema</th>\n",
       "      <th>title</th>\n",
       "      <th>type</th>\n",
       "      <th>properties</th>\n",
       "    </tr>\n",
       "  </thead>\n",
       "  <tbody>\n",
       "    <tr>\n",
       "      <th>age</th>\n",
       "      <td>https://example.com/person.schema.json</td>\n",
       "      <td>https://json-schema.org/draft/2020-12/schema</td>\n",
       "      <td>Person</td>\n",
       "      <td>object</td>\n",
       "      <td>{'description': 'Age in years which must be eq...</td>\n",
       "    </tr>\n",
       "    <tr>\n",
       "      <th>firstName</th>\n",
       "      <td>https://example.com/person.schema.json</td>\n",
       "      <td>https://json-schema.org/draft/2020-12/schema</td>\n",
       "      <td>Person</td>\n",
       "      <td>object</td>\n",
       "      <td>{'type': 'string', 'description': 'The person'...</td>\n",
       "    </tr>\n",
       "    <tr>\n",
       "      <th>lastName</th>\n",
       "      <td>https://example.com/person.schema.json</td>\n",
       "      <td>https://json-schema.org/draft/2020-12/schema</td>\n",
       "      <td>Person</td>\n",
       "      <td>object</td>\n",
       "      <td>{'type': 'string', 'description': 'The person'...</td>\n",
       "    </tr>\n",
       "  </tbody>\n",
       "</table>\n",
       "</div>"
      ],
      "text/plain": [
       "                                              $id  \\\n",
       "age        https://example.com/person.schema.json   \n",
       "firstName  https://example.com/person.schema.json   \n",
       "lastName   https://example.com/person.schema.json   \n",
       "\n",
       "                                                $schema   title    type  \\\n",
       "age        https://json-schema.org/draft/2020-12/schema  Person  object   \n",
       "firstName  https://json-schema.org/draft/2020-12/schema  Person  object   \n",
       "lastName   https://json-schema.org/draft/2020-12/schema  Person  object   \n",
       "\n",
       "                                                  properties  \n",
       "age        {'description': 'Age in years which must be eq...  \n",
       "firstName  {'type': 'string', 'description': 'The person'...  \n",
       "lastName   {'type': 'string', 'description': 'The person'...  "
      ]
     },
     "execution_count": 9,
     "metadata": {},
     "output_type": "execute_result"
    }
   ],
   "source": [
    "df = pd.read_json('data/schema.json')\n",
    "df"
   ]
  },
  {
   "cell_type": "code",
   "execution_count": 2,
   "metadata": {},
   "outputs": [],
   "source": [
    "props = pd.json_normalize(df.properties)\n",
    "props"
   ]
  },
  {
   "cell_type": "code",
   "execution_count": 4,
   "metadata": {},
   "outputs": [
    {
     "data": {
      "text/html": [
       "<div>\n",
       "<style scoped>\n",
       "    .dataframe tbody tr th:only-of-type {\n",
       "        vertical-align: middle;\n",
       "    }\n",
       "\n",
       "    .dataframe tbody tr th {\n",
       "        vertical-align: top;\n",
       "    }\n",
       "\n",
       "    .dataframe thead th {\n",
       "        text-align: right;\n",
       "    }\n",
       "</style>\n",
       "<table border=\"1\" class=\"dataframe\">\n",
       "  <thead>\n",
       "    <tr style=\"text-align: right;\">\n",
       "      <th></th>\n",
       "      <th>description</th>\n",
       "      <th>type</th>\n",
       "      <th>minimum</th>\n",
       "    </tr>\n",
       "  </thead>\n",
       "  <tbody>\n",
       "    <tr>\n",
       "      <th>0</th>\n",
       "      <td>Age in years which must be equal to or greater...</td>\n",
       "      <td>integer</td>\n",
       "      <td>0.0</td>\n",
       "    </tr>\n",
       "    <tr>\n",
       "      <th>1</th>\n",
       "      <td>The person's first name.</td>\n",
       "      <td>string</td>\n",
       "      <td>NaN</td>\n",
       "    </tr>\n",
       "    <tr>\n",
       "      <th>2</th>\n",
       "      <td>The person's last name.</td>\n",
       "      <td>string</td>\n",
       "      <td>NaN</td>\n",
       "    </tr>\n",
       "  </tbody>\n",
       "</table>\n",
       "</div>"
      ],
      "text/plain": [
       "                                         description     type  minimum\n",
       "0  Age in years which must be equal to or greater...  integer      0.0\n",
       "1                           The person's first name.   string      NaN\n",
       "2                            The person's last name.   string      NaN"
      ]
     },
     "execution_count": 4,
     "metadata": {},
     "output_type": "execute_result"
    }
   ],
   "source": []
  },
  {
   "cell_type": "code",
   "execution_count": 8,
   "metadata": {},
   "outputs": [
    {
     "name": "stdout",
     "output_type": "stream",
     "text": [
      "description\n",
      "type\n",
      "minimum\n"
     ]
    }
   ],
   "source": [
    "for c in props.columns:\n",
    "    print (c)"
   ]
  },
  {
   "cell_type": "code",
   "execution_count": null,
   "metadata": {},
   "outputs": [],
   "source": []
  }
 ],
 "metadata": {
  "kernelspec": {
   "display_name": "Python 3",
   "language": "python",
   "name": "python3"
  },
  "language_info": {
   "codemirror_mode": {
    "name": "ipython",
    "version": 3
   },
   "file_extension": ".py",
   "mimetype": "text/x-python",
   "name": "python",
   "nbconvert_exporter": "python",
   "pygments_lexer": "ipython3",
   "version": "3.8.3"
  }
 },
 "nbformat": 4,
 "nbformat_minor": 4
}
